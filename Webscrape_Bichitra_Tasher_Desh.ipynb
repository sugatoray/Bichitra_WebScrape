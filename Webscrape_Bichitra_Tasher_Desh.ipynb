{
 "cells": [
  {
   "cell_type": "markdown",
   "metadata": {},
   "source": [
    "# Download Content: Transcript and Manuscript-Images\n",
    "\n",
    "+ **Author**: Sugato Ray\n",
    "+ **Published Date**: 2018-Jun-12\n",
    "+ **Version**: 1.0\n",
    "\n",
    "#### Description: \n",
    "+ This project was conceptualized and realized in order to download transcripts and manuscripts (image-files) from [Bichitra: Online Tagore Variorum](http://bichitra.jdvu.ac.in/index.php), an initiative by School of Cultural Texts and Records, Jadavpur University. \n",
    "+ This project uses a custom-made python package library: **`Webscrape_Bichitra_Library.py`**. Download the package from [here](http://localhost:8888/edit/Documents/PythonScripts/Webscrape_Bichitra_Library.py#).\n",
    "\n",
    "***\n",
    "\n",
    "### Some helpful shorctcuts:  \n",
    "<font color=\"red\">\n",
    "**Note**: To enter command mode press **`ESC`** key.\n",
    "\n",
    "|**Action**|**Command Mode Shortcut**|\n",
    "| :- |-------------: | \n",
    "| Run current cell only:| **`SHIFT` + `ENTER`**|\n",
    "| Inser cell above:| **`A`**|\n",
    "| Inser cell below:| **`B`**|\n",
    "| Toggle cell ***MARKUP***:| **`M`**|\n",
    "| Toggle cell ***CODE***:| **`C`**|\n",
    "| Toggle cell output scrolled:| **`SHIFT` + `O`**|\n",
    "| Toggle cell output collapsed:| **`O`**|\n",
    "| Toggle cell line numbering:| **`L`**|\n",
    "| Toggle notebook line numbering:| **`SHIFT` + `L`**|\n",
    "<font color=\"black\">\n",
    "\n",
    "\n",
    "***\n"
   ]
  },
  {
   "cell_type": "markdown",
   "metadata": {},
   "source": [
    "## Import Necessary Packages"
   ]
  },
  {
   "cell_type": "code",
   "execution_count": 2,
   "metadata": {
    "collapsed": true,
    "scrolled": false
   },
   "outputs": [],
   "source": [
    "# Mandatory imports\n",
    "import Webscrape_Bichitra_Library as wbl\n",
    "\n",
    "# Additional optional imports\n",
    "import webbrowser as wb\n",
    "import os\n",
    "import errno\n",
    "import requests\n",
    "from bs4 import BeautifulSoup as bsp\n",
    "import urllib.parse as urlparse\n",
    "from numpy import arange\n",
    "import time # Refer to: https://stackoverflow.com/questions/3620943/measuring-elapsed-time-with-the-time-module\n",
    "import pandas as pd\n",
    "import matplotlib.pyplot as plt\n",
    "from numpy import random as np_random, floor as np_floor\n",
    "\n",
    "%matplotlib inline"
   ]
  },
  {
   "cell_type": "markdown",
   "metadata": {},
   "source": [
    "## Primary Content Title of the Manuscript(s):"
   ]
  },
  {
   "cell_type": "code",
   "execution_count": 3,
   "metadata": {
    "scrolled": false
   },
   "outputs": [
    {
     "name": "stdout",
     "output_type": "stream",
     "text": [
      "Prmary Content Title: Tasher_Desh\n"
     ]
    }
   ],
   "source": [
    "primary_content_title = \"Tasher_Desh\"\n",
    "print(\"Prmary Content Title: \" + primary_content_title)"
   ]
  },
  {
   "cell_type": "markdown",
   "metadata": {},
   "source": [
    "## Prepare a List of Target Manuscript URLs:"
   ]
  },
  {
   "cell_type": "code",
   "execution_count": 4,
   "metadata": {
    "collapsed": true,
    "scrolled": false
   },
   "outputs": [],
   "source": [
    "target_url_list = [\n",
    "     \"http://bichitra.jdvu.ac.in/manuscript/manuscript_viewer.php?manid=9&mname=RBVBMS_009A\" \\\n",
    "    ,\"http://bichitra.jdvu.ac.in/manuscript/manuscript_viewer.php?manid=104&mname=RBVBMS_096%28i%29\" \\\n",
    "    ,\"http://bichitra.jdvu.ac.in/manuscript/manuscript_viewer.php?manid=105&mname=RBVBMS_096%28ii%29\" \\\n",
    "    ,\"http://bichitra.jdvu.ac.in/manuscript/manuscript_viewer.php?manid=106&mname=RBVBMS_096%28iii%29\" \\\n",
    "    ,\"http://bichitra.jdvu.ac.in/manuscript/manuscript_viewer.php?manid=107&mname=RBVBMS_096%28iv%29\" \\\n",
    "    ,\"http://bichitra.jdvu.ac.in/manuscript/manuscript_viewer.php?manid=108&mname=RBVBMS_096%28v%29\" \\\n",
    "    ,\"http://bichitra.jdvu.ac.in/manuscript/manuscript_viewer.php?manid=119&mname=RBVBMS_101%28i%29\" \\\n",
    "    ,\"http://bichitra.jdvu.ac.in/manuscript/manuscript_viewer.php?manid=120&mname=RBVBMS_101%28ii%29\" \\\n",
    "    ,\"http://bichitra.jdvu.ac.in/manuscript/manuscript_viewer.php?manid=121&mname=RBVBMS_101%28iii%29\" \\\n",
    "    ,\"http://bichitra.jdvu.ac.in/manuscript/manuscript_viewer.php?manid=199&mname=RBVBMS_159\" \\\n",
    "    ,\"http://bichitra.jdvu.ac.in/manuscript/manuscript_viewer.php?manid=208&mname=RBVBMS_168\" \\\n",
    "    ,\"http://bichitra.jdvu.ac.in/manuscript/manuscript_viewer.php?manid=264&mname=RBVBMS_192%28i%29\" \\\n",
    "    ,\"http://bichitra.jdvu.ac.in/manuscript/manuscript_viewer.php?manid=265&mname=RBVBMS_192%28ii%29\" \\\n",
    "    ,\"http://bichitra.jdvu.ac.in/manuscript/manuscript_viewer.php?manid=589&mname=BMSF_036\" \\\n",
    "    ]"
   ]
  },
  {
   "cell_type": "markdown",
   "metadata": {},
   "source": [
    "### Show Target URLs:"
   ]
  },
  {
   "cell_type": "code",
   "execution_count": 5,
   "metadata": {},
   "outputs": [
    {
     "name": "stdout",
     "output_type": "stream",
     "text": [
      "The list of target urls: \n",
      "\n",
      "0: http://bichitra.jdvu.ac.in/manuscript/manuscript_viewer.php?manid=9&mname=RBVBMS_009A\n",
      "1: http://bichitra.jdvu.ac.in/manuscript/manuscript_viewer.php?manid=104&mname=RBVBMS_096%28i%29\n",
      "2: http://bichitra.jdvu.ac.in/manuscript/manuscript_viewer.php?manid=105&mname=RBVBMS_096%28ii%29\n",
      "3: http://bichitra.jdvu.ac.in/manuscript/manuscript_viewer.php?manid=106&mname=RBVBMS_096%28iii%29\n",
      "4: http://bichitra.jdvu.ac.in/manuscript/manuscript_viewer.php?manid=107&mname=RBVBMS_096%28iv%29\n",
      "5: http://bichitra.jdvu.ac.in/manuscript/manuscript_viewer.php?manid=108&mname=RBVBMS_096%28v%29\n",
      "6: http://bichitra.jdvu.ac.in/manuscript/manuscript_viewer.php?manid=119&mname=RBVBMS_101%28i%29\n",
      "7: http://bichitra.jdvu.ac.in/manuscript/manuscript_viewer.php?manid=120&mname=RBVBMS_101%28ii%29\n",
      "8: http://bichitra.jdvu.ac.in/manuscript/manuscript_viewer.php?manid=121&mname=RBVBMS_101%28iii%29\n",
      "9: http://bichitra.jdvu.ac.in/manuscript/manuscript_viewer.php?manid=199&mname=RBVBMS_159\n",
      "10: http://bichitra.jdvu.ac.in/manuscript/manuscript_viewer.php?manid=208&mname=RBVBMS_168\n",
      "11: http://bichitra.jdvu.ac.in/manuscript/manuscript_viewer.php?manid=264&mname=RBVBMS_192%28i%29\n",
      "12: http://bichitra.jdvu.ac.in/manuscript/manuscript_viewer.php?manid=265&mname=RBVBMS_192%28ii%29\n",
      "13: http://bichitra.jdvu.ac.in/manuscript/manuscript_viewer.php?manid=589&mname=BMSF_036\n"
     ]
    }
   ],
   "source": [
    "wbl.show_TargetURLs(target_url_list)"
   ]
  },
  {
   "cell_type": "markdown",
   "metadata": {},
   "source": [
    "### Open Any Targetted URL:\n",
    "\n",
    "Alternatively, you could also click on the URLs above to directly go to the pages."
   ]
  },
  {
   "cell_type": "code",
   "execution_count": 6,
   "metadata": {
    "scrolled": false
   },
   "outputs": [
    {
     "data": {
      "text/plain": [
       "True"
      ]
     },
     "execution_count": 6,
     "metadata": {},
     "output_type": "execute_result"
    }
   ],
   "source": [
    "target_index = 11\n",
    "wb.open_new_tab(target_url_list[target_index])"
   ]
  },
  {
   "cell_type": "markdown",
   "metadata": {},
   "source": [
    "## Extract Transcript File Names from URLs:"
   ]
  },
  {
   "cell_type": "code",
   "execution_count": 7,
   "metadata": {
    "scrolled": false
   },
   "outputs": [
    {
     "name": "stdout",
     "output_type": "stream",
     "text": [
      "File Names: \n",
      "\n",
      "0: RBVBMS_009A \n",
      "1: RBVBMS_096(i) \n",
      "2: RBVBMS_096(ii) \n",
      "3: RBVBMS_096(iii) \n",
      "4: RBVBMS_096(iv) \n",
      "5: RBVBMS_096(v) \n",
      "6: RBVBMS_101(i) \n",
      "7: RBVBMS_101(ii) \n",
      "8: RBVBMS_101(iii) \n",
      "9: RBVBMS_159 \n",
      "10: RBVBMS_168 \n",
      "11: RBVBMS_192(i) \n",
      "12: RBVBMS_192(ii) \n",
      "13: BMSF_036 \n"
     ]
    }
   ],
   "source": [
    "fileName_list = wbl.make_FileName_List(target_url_list)"
   ]
  },
  {
   "cell_type": "markdown",
   "metadata": {},
   "source": [
    "## Download Transcripts of Targetted Manuscripts: "
   ]
  },
  {
   "cell_type": "code",
   "execution_count": 8,
   "metadata": {
    "scrolled": true
   },
   "outputs": [
    {
     "name": "stdout",
     "output_type": "stream",
     "text": [
      "The list of target urls: \n",
      "\n",
      "0: http://bichitra.jdvu.ac.in/manuscript/manuscript_viewer.php?manid=9&mname=RBVBMS_009A\n",
      "1: http://bichitra.jdvu.ac.in/manuscript/manuscript_viewer.php?manid=104&mname=RBVBMS_096%28i%29\n",
      "2: http://bichitra.jdvu.ac.in/manuscript/manuscript_viewer.php?manid=105&mname=RBVBMS_096%28ii%29\n",
      "3: http://bichitra.jdvu.ac.in/manuscript/manuscript_viewer.php?manid=106&mname=RBVBMS_096%28iii%29\n",
      "4: http://bichitra.jdvu.ac.in/manuscript/manuscript_viewer.php?manid=107&mname=RBVBMS_096%28iv%29\n",
      "5: http://bichitra.jdvu.ac.in/manuscript/manuscript_viewer.php?manid=108&mname=RBVBMS_096%28v%29\n",
      "6: http://bichitra.jdvu.ac.in/manuscript/manuscript_viewer.php?manid=119&mname=RBVBMS_101%28i%29\n",
      "7: http://bichitra.jdvu.ac.in/manuscript/manuscript_viewer.php?manid=120&mname=RBVBMS_101%28ii%29\n",
      "8: http://bichitra.jdvu.ac.in/manuscript/manuscript_viewer.php?manid=121&mname=RBVBMS_101%28iii%29\n",
      "9: http://bichitra.jdvu.ac.in/manuscript/manuscript_viewer.php?manid=199&mname=RBVBMS_159\n",
      "10: http://bichitra.jdvu.ac.in/manuscript/manuscript_viewer.php?manid=208&mname=RBVBMS_168\n",
      "11: http://bichitra.jdvu.ac.in/manuscript/manuscript_viewer.php?manid=264&mname=RBVBMS_192%28i%29\n",
      "12: http://bichitra.jdvu.ac.in/manuscript/manuscript_viewer.php?manid=265&mname=RBVBMS_192%28ii%29\n",
      "13: http://bichitra.jdvu.ac.in/manuscript/manuscript_viewer.php?manid=589&mname=BMSF_036\n",
      "File Names: \n",
      "\n",
      "0: RBVBMS_009A \n",
      "1: RBVBMS_096(i) \n",
      "2: RBVBMS_096(ii) \n",
      "3: RBVBMS_096(iii) \n",
      "4: RBVBMS_096(iv) \n",
      "5: RBVBMS_096(v) \n",
      "6: RBVBMS_101(i) \n",
      "7: RBVBMS_101(ii) \n",
      "8: RBVBMS_101(iii) \n",
      "9: RBVBMS_159 \n",
      "10: RBVBMS_168 \n",
      "11: RBVBMS_192(i) \n",
      "12: RBVBMS_192(ii) \n",
      "13: BMSF_036 \n",
      "RelativePath: C:\\Users\\raysu\\Documents\\PythonScripts\\Tasher_Desh\\Transcripts\n",
      "C:\\Users\\raysu\\Documents\\PythonScripts\\Tasher_Desh\\Transcripts\n",
      "\n",
      "File Download Progress Status: \n",
      "\n",
      "\n",
      " 1. Downloading File: RBVBMS_009A\n",
      "Complete FilePath: C:\\Users\\raysu\\Documents\\PythonScripts\\Tasher_Desh\\Transcripts\\RBVBMS_009A.txt\n",
      "\t Saved File: RBVBMS_009A\n",
      "\t Web-Source: \n",
      "http://bichitra.jdvu.ac.in/manuscript/manuscript_viewer.php?manid=9&mname=RBVBMS_009A\n",
      "\t Download Time: 1.724\n",
      "\t Elapsed Time: 2.724\n",
      "\n",
      " 2. Downloading File: RBVBMS_096(i)\n",
      "Complete FilePath: C:\\Users\\raysu\\Documents\\PythonScripts\\Tasher_Desh\\Transcripts\\RBVBMS_096(i).txt\n",
      "\t Saved File: RBVBMS_096(i)\n",
      "\t Web-Source: \n",
      "http://bichitra.jdvu.ac.in/manuscript/manuscript_viewer.php?manid=104&mname=RBVBMS_096%28i%29\n",
      "\t Download Time: 0.8\n",
      "\t Elapsed Time: 4.524\n",
      "\n",
      " 3. Downloading File: RBVBMS_096(ii)\n",
      "Complete FilePath: C:\\Users\\raysu\\Documents\\PythonScripts\\Tasher_Desh\\Transcripts\\RBVBMS_096(ii).txt\n",
      "\t Saved File: RBVBMS_096(ii)\n",
      "\t Web-Source: \n",
      "http://bichitra.jdvu.ac.in/manuscript/manuscript_viewer.php?manid=105&mname=RBVBMS_096%28ii%29\n",
      "\t Download Time: 0.693\n",
      "\t Elapsed Time: 6.218\n",
      "\n",
      " 4. Downloading File: RBVBMS_096(iii)\n",
      "Complete FilePath: C:\\Users\\raysu\\Documents\\PythonScripts\\Tasher_Desh\\Transcripts\\RBVBMS_096(iii).txt\n",
      "\t Saved File: RBVBMS_096(iii)\n",
      "\t Web-Source: \n",
      "http://bichitra.jdvu.ac.in/manuscript/manuscript_viewer.php?manid=106&mname=RBVBMS_096%28iii%29\n",
      "\t Download Time: 0.627\n",
      "\t Elapsed Time: 7.846\n",
      "\n",
      " 5. Downloading File: RBVBMS_096(iv)\n",
      "Complete FilePath: C:\\Users\\raysu\\Documents\\PythonScripts\\Tasher_Desh\\Transcripts\\RBVBMS_096(iv).txt\n",
      "\t Saved File: RBVBMS_096(iv)\n",
      "\t Web-Source: \n",
      "http://bichitra.jdvu.ac.in/manuscript/manuscript_viewer.php?manid=107&mname=RBVBMS_096%28iv%29\n",
      "\t Download Time: 0.796\n",
      "\t Elapsed Time: 9.643\n",
      "\n",
      " 6. Downloading File: RBVBMS_096(v)\n",
      "Complete FilePath: C:\\Users\\raysu\\Documents\\PythonScripts\\Tasher_Desh\\Transcripts\\RBVBMS_096(v).txt\n",
      "\t Saved File: RBVBMS_096(v)\n",
      "\t Web-Source: \n",
      "http://bichitra.jdvu.ac.in/manuscript/manuscript_viewer.php?manid=108&mname=RBVBMS_096%28v%29\n",
      "\t Download Time: 0.366\n",
      "\t Elapsed Time: 11.01\n",
      "\n",
      " 7. Downloading File: RBVBMS_101(i)\n",
      "Complete FilePath: C:\\Users\\raysu\\Documents\\PythonScripts\\Tasher_Desh\\Transcripts\\RBVBMS_101(i).txt\n",
      "\t Saved File: RBVBMS_101(i)\n",
      "\t Web-Source: \n",
      "http://bichitra.jdvu.ac.in/manuscript/manuscript_viewer.php?manid=119&mname=RBVBMS_101%28i%29\n",
      "\t Download Time: 0.567\n",
      "\t Elapsed Time: 12.577\n",
      "\n",
      " 8. Downloading File: RBVBMS_101(ii)\n",
      "Complete FilePath: C:\\Users\\raysu\\Documents\\PythonScripts\\Tasher_Desh\\Transcripts\\RBVBMS_101(ii).txt\n",
      "\t Saved File: RBVBMS_101(ii)\n",
      "\t Web-Source: \n",
      "http://bichitra.jdvu.ac.in/manuscript/manuscript_viewer.php?manid=120&mname=RBVBMS_101%28ii%29\n",
      "\t Download Time: 0.683\n",
      "\t Elapsed Time: 14.26\n",
      "\n",
      " 9. Downloading File: RBVBMS_101(iii)\n",
      "Complete FilePath: C:\\Users\\raysu\\Documents\\PythonScripts\\Tasher_Desh\\Transcripts\\RBVBMS_101(iii).txt\n",
      "\t Saved File: RBVBMS_101(iii)\n",
      "\t Web-Source: \n",
      "http://bichitra.jdvu.ac.in/manuscript/manuscript_viewer.php?manid=121&mname=RBVBMS_101%28iii%29\n",
      "\t Download Time: 0.808\n",
      "\t Elapsed Time: 16.068\n",
      "\n",
      " 10. Downloading File: RBVBMS_159\n",
      "Complete FilePath: C:\\Users\\raysu\\Documents\\PythonScripts\\Tasher_Desh\\Transcripts\\RBVBMS_159.txt\n",
      "\t Saved File: RBVBMS_159\n",
      "\t Web-Source: \n",
      "http://bichitra.jdvu.ac.in/manuscript/manuscript_viewer.php?manid=199&mname=RBVBMS_159\n",
      "\t Download Time: 4.947\n",
      "\t Elapsed Time: 22.016\n",
      "\n",
      " 11. Downloading File: RBVBMS_168\n",
      "Complete FilePath: C:\\Users\\raysu\\Documents\\PythonScripts\\Tasher_Desh\\Transcripts\\RBVBMS_168.txt\n",
      "\t Saved File: RBVBMS_168\n",
      "\t Web-Source: \n",
      "http://bichitra.jdvu.ac.in/manuscript/manuscript_viewer.php?manid=208&mname=RBVBMS_168\n",
      "\t Download Time: 1.192\n",
      "\t Elapsed Time: 24.211\n",
      "\n",
      " 12. Downloading File: RBVBMS_192(i)\n",
      "Complete FilePath: C:\\Users\\raysu\\Documents\\PythonScripts\\Tasher_Desh\\Transcripts\\RBVBMS_192(i).txt\n",
      "\t Saved File: RBVBMS_192(i)\n",
      "\t Web-Source: \n",
      "http://bichitra.jdvu.ac.in/manuscript/manuscript_viewer.php?manid=264&mname=RBVBMS_192%28i%29\n",
      "\t Download Time: 0.733\n",
      "\t Elapsed Time: 25.944\n",
      "\n",
      " 13. Downloading File: RBVBMS_192(ii)\n",
      "Complete FilePath: C:\\Users\\raysu\\Documents\\PythonScripts\\Tasher_Desh\\Transcripts\\RBVBMS_192(ii).txt\n",
      "\t Saved File: RBVBMS_192(ii)\n",
      "\t Web-Source: \n",
      "http://bichitra.jdvu.ac.in/manuscript/manuscript_viewer.php?manid=265&mname=RBVBMS_192%28ii%29\n",
      "\t Download Time: 0.621\n",
      "\t Elapsed Time: 27.566\n",
      "\n",
      " 14. Downloading File: BMSF_036\n",
      "Complete FilePath: C:\\Users\\raysu\\Documents\\PythonScripts\\Tasher_Desh\\Transcripts\\BMSF_036.txt\n",
      "\t Saved File: BMSF_036\n",
      "\t Web-Source: \n",
      "http://bichitra.jdvu.ac.in/manuscript/manuscript_viewer.php?manid=589&mname=BMSF_036\n",
      "\t Download Time: 0.552\n",
      "\t Elapsed Time: 29.118\n",
      "\t Elapsed Time: 29.118\n"
     ]
    }
   ],
   "source": [
    "subFolderPath_list = [\"Tasher_Desh\", \"Transcripts\"]\n",
    "fileName_list = wbl.begin_downloadManuscriptAsFile(target_url_list, subFolderPath_list)\n"
   ]
  },
  {
   "cell_type": "markdown",
   "metadata": {},
   "source": [
    "## Downloading Manuscript Images:"
   ]
  },
  {
   "cell_type": "markdown",
   "metadata": {},
   "source": [
    "### 1. Setup Parameters for Downloading Manuscript Images:\n",
    "\n",
    "+ #### Maximum Number of Image-Pages for the Manuscripts"
   ]
  },
  {
   "cell_type": "code",
   "execution_count": 9,
   "metadata": {
    "scrolled": true
   },
   "outputs": [
    {
     "name": "stdout",
     "output_type": "stream",
     "text": [
      "[98, 35, 29, 29, 28, 29, 29, 29, 29, 291, 86, 63, 2, 4]\n"
     ]
    }
   ],
   "source": [
    "#total_image_pages_list = [98,35,29,29,28,29,29,29,29,291,86,63,2,4]\n",
    "total_image_pages_list = wbl.getTotalImagesNumberList(target_url_list)\n",
    "print(total_image_pages_list)"
   ]
  },
  {
   "cell_type": "code",
   "execution_count": 10,
   "metadata": {
    "scrolled": true
   },
   "outputs": [
    {
     "name": "stdout",
     "output_type": "stream",
     "text": [
      "\n",
      "Index\tImages\tManuscript Name\t\tManuscript URL\n",
      "\n",
      "0\t98\tRBVBMS_009A\thttp://bichitra.jdvu.ac.in/manuscript/manuscript_viewer.php?manid=9&mname=RBVBMS_009A\n",
      "1\t35\tRBVBMS_096(i)\thttp://bichitra.jdvu.ac.in/manuscript/manuscript_viewer.php?manid=104&mname=RBVBMS_096%28i%29\n",
      "2\t29\tRBVBMS_096(ii)\thttp://bichitra.jdvu.ac.in/manuscript/manuscript_viewer.php?manid=105&mname=RBVBMS_096%28ii%29\n",
      "3\t29\tRBVBMS_096(iii)\thttp://bichitra.jdvu.ac.in/manuscript/manuscript_viewer.php?manid=106&mname=RBVBMS_096%28iii%29\n",
      "4\t28\tRBVBMS_096(iv)\thttp://bichitra.jdvu.ac.in/manuscript/manuscript_viewer.php?manid=107&mname=RBVBMS_096%28iv%29\n",
      "5\t29\tRBVBMS_096(v)\thttp://bichitra.jdvu.ac.in/manuscript/manuscript_viewer.php?manid=108&mname=RBVBMS_096%28v%29\n",
      "6\t29\tRBVBMS_101(i)\thttp://bichitra.jdvu.ac.in/manuscript/manuscript_viewer.php?manid=119&mname=RBVBMS_101%28i%29\n",
      "7\t29\tRBVBMS_101(ii)\thttp://bichitra.jdvu.ac.in/manuscript/manuscript_viewer.php?manid=120&mname=RBVBMS_101%28ii%29\n",
      "8\t29\tRBVBMS_101(iii)\thttp://bichitra.jdvu.ac.in/manuscript/manuscript_viewer.php?manid=121&mname=RBVBMS_101%28iii%29\n",
      "9\t291\tRBVBMS_159\thttp://bichitra.jdvu.ac.in/manuscript/manuscript_viewer.php?manid=199&mname=RBVBMS_159\n",
      "10\t86\tRBVBMS_168\thttp://bichitra.jdvu.ac.in/manuscript/manuscript_viewer.php?manid=208&mname=RBVBMS_168\n",
      "11\t63\tRBVBMS_192(i)\thttp://bichitra.jdvu.ac.in/manuscript/manuscript_viewer.php?manid=264&mname=RBVBMS_192%28i%29\n",
      "12\t2\tRBVBMS_192(ii)\thttp://bichitra.jdvu.ac.in/manuscript/manuscript_viewer.php?manid=265&mname=RBVBMS_192%28ii%29\n",
      "13\t4\tBMSF_036\thttp://bichitra.jdvu.ac.in/manuscript/manuscript_viewer.php?manid=589&mname=BMSF_036\n"
     ]
    }
   ],
   "source": [
    "print(\"\\nIndex\" + \"\\t\" + \"Images\" + \"\\t\" + \"Manuscript Name\" + \"\\t\\t\" + \"Manuscript URL\" + \"\\n\")\n",
    "for i,target_url in enumerate(target_url_list):\n",
    "    print(str(i) + \"\\t\" + str(total_image_pages_list[i])  + \"\\t\" + fileName_list[i] + \"\\t\" + target_url)"
   ]
  },
  {
   "cell_type": "markdown",
   "metadata": {},
   "source": [
    "## 2. Begin Downloading Manuscript Images:"
   ]
  },
  {
   "cell_type": "code",
   "execution_count": 21,
   "metadata": {
    "scrolled": true
   },
   "outputs": [
    {
     "name": "stdout",
     "output_type": "stream",
     "text": [
      "\n",
      " Manuscript belongs to Title: Tasher_Desh\n",
      "\n",
      " Manuscript Name: RBVBMS_192(ii)\n",
      "\n",
      " Manuscript URL: \n",
      "http://bichitra.jdvu.ac.in/manuscript/manuscript_viewer.php?manid=265&mname=RBVBMS_192%28ii%29\n",
      "\n",
      " Total Number of Image-Files: 2\n",
      "RelativePath: C:\\Users\\raysu\\Documents\\PythonScripts\\Tasher_Desh\\Manuscripts\\RBVBMS_192(ii)\n",
      "\n",
      " Title: RBVBMS_192(ii)\n",
      " Manuscript Download BasePath: C:\\Users\\raysu\\Documents\\PythonScripts\\Tasher_Desh\\Manuscripts\\RBVBMS_192(ii)\n",
      "\n",
      " Downloading Image Files for Manuscript: RBVBMS_192(ii)\n",
      "\n",
      "http://bichitra.jdvu.ac.in/utility/image.php?fpath=Y29udGVudC9tYW51c2NyaXB0L1JCVkJNU18wMDlBLw%3D%3D&img=00000006.gif&amp;dummy=934\n",
      "{'http://bichitra.jdvu.ac.in/utility/image.php?fpath': ['Y29udGVudC9tYW51c2NyaXB0L1JCVkJNU18wMDlBLw=='], 'img': ['00000006.gif'], 'dummy': ['934']}\n",
      "Total Number of Images to Download: 2\n",
      "http://bichitra.jdvu.ac.in/utility/image.php?fpath=Y29udGVudC9tYW51c2NyaXB0L1JCVkJNU18wMDlBLw==&img=00000001.gif&dummy=43\n",
      "http://bichitra.jdvu.ac.in/utility/image.php?fpath=Y29udGVudC9tYW51c2NyaXB0L1JCVkJNU18wMDlBLw==&img=00000002.gif&dummy=43\n",
      "\n",
      " 1. Downloading Image File: RBVBMS_192(ii)_00000001.gif\n",
      "Complete FilePath: C:\\Users\\raysu\\Documents\\PythonScripts\\Tasher_Desh\\Manuscripts\\RBVBMS_192(ii)\\RBVBMS_192(ii)_00000001.gif\n",
      "content-type: image/gif\n",
      "Downloaded Images File at Location: \n",
      "\tC:\\Users\\raysu\\Documents\\PythonScripts\\Tasher_Desh\\Manuscripts\\RBVBMS_192(ii)\\RBVBMS_192(ii)_00000001.gif\n",
      "\n",
      "\t Download Time: 3.33\n",
      "\n",
      "\t Elapsed Time: 5.758\n",
      "\n",
      " 2. Downloading Image File: RBVBMS_192(ii)_00000002.gif\n",
      "Complete FilePath: C:\\Users\\raysu\\Documents\\PythonScripts\\Tasher_Desh\\Manuscripts\\RBVBMS_192(ii)\\RBVBMS_192(ii)_00000002.gif\n",
      "content-type: image/gif\n",
      "Downloaded Images File at Location: \n",
      "\tC:\\Users\\raysu\\Documents\\PythonScripts\\Tasher_Desh\\Manuscripts\\RBVBMS_192(ii)\\RBVBMS_192(ii)_00000002.gif\n",
      "\n",
      "\t Download Time: 7.638\n",
      "\n",
      "\t Elapsed Time: 10.067\n",
      "\t Total Download Time: 10.067\n",
      " "
     ]
    }
   ],
   "source": [
    "download_index = 12\n",
    "#primary_content_title = \"Tasher_Desh\" # moved to the very top of this notebook\n",
    "\n",
    "# Get setup parameters for downloading manuscript-images\n",
    "target_url_manuscript, manuscript_name, total_images_number, basePath = \\\n",
    "    wbl.setParams_Download_Manuscript_Image_Files(total_image_pages_list, \\\n",
    "                                                  target_url_list, \\\n",
    "                                                  fileName_list, \\\n",
    "                                                  primary_content_title, \\\n",
    "                                                  download_index)\n",
    "\n",
    "# Begin manuscript-images download    \n",
    "%prun image_number_list, image_name_list, image_filename_list, image_fileNamePath_list, image_url_list = \\\n",
    "    wbl.downloadBichitraManuscriptImages(target_url_manuscript, manuscript_name, total_images_number, basePath)"
   ]
  },
  {
   "cell_type": "code",
   "execution_count": 10,
   "metadata": {
    "collapsed": true,
    "scrolled": true
   },
   "outputs": [],
   "source": [
    "\"\"\"\n",
    "def getFromManuscriptURL_TotalImagesNumber(target_url, iDebugFlag = 0):\n",
    "\n",
    "    # Extract **total_pages_number** for a manuscript's images.\n",
    "        \n",
    "    #target_url = target_url_list[0]\n",
    "    # Get source html text.\n",
    "    source_html = requests.get(target_url)\n",
    "    if iDebugFlag == 1:\n",
    "        print(\"\\n Target HTML Text: \\n\" + source_html.text + \"\\n\")\n",
    "\n",
    "    # Use BeautifulSoup to extract intended content.\n",
    "    # Soup for HTML body\n",
    "    soup_body = bsp(source_html.text, 'html.parser').find(\"body\")\n",
    "    # Soup for HTML body code containg target-area in the manuscript_toolbar\n",
    "    soup_toolbar_manuscript = soup_body.find(\"div\", {\"class\": \"main_toolbar\"})\\\n",
    "                                .find(\"div\", {\"class\": \"manuscript_toolbar\"})\\\n",
    "                                .find(\"span\", {\"class\": r\"clearfix ui-widget ui-corner-all button_group\"})\n",
    "    # soup for <span></span> containing info: total-number-of-pages\n",
    "    soup_page_number = soup_toolbar_manuscript.find(\"span\", {\"class\": \"man_button\"})\n",
    "    if iDebugFlag == 2:\n",
    "        print(\"\\n HTML Text for Total Number of Pages: \\n\" \\\n",
    "              + soup_page_number.prettify() + \"\\n\")\n",
    "    \n",
    "    # Split into lines\n",
    "    page_num_text_lines = str(soup_page_number.text).splitlines()\n",
    "    # Pick last item from the list (page_num_text_lines) and \n",
    "    # split with \"of \" followed by stripping of white-spaces\n",
    "    total_pages_number = int(\"\".join(\"\".join(page_num_text_lines[-1:])\\\n",
    "                                    .split(\"of \")[-1:]\\\n",
    "                                    ).strip()\\\n",
    "                            )\n",
    "        \n",
    "    return total_pages_number\n",
    "    \n",
    "def getTotalImagesNumberList(target_url_list):\n",
    "    total_image_pages_list = list(getFromManuscriptURL_TotalImagesNumber(target_url) for target_url in target_url_list)\n",
    "    \n",
    "    return total_image_pages_list    \n",
    "\"\"\""
   ]
  },
  {
   "cell_type": "code",
   "execution_count": null,
   "metadata": {
    "collapsed": true,
    "scrolled": true
   },
   "outputs": [],
   "source": []
  }
 ],
 "metadata": {
  "kernelspec": {
   "display_name": "Python 3",
   "language": "python",
   "name": "python3"
  },
  "language_info": {
   "codemirror_mode": {
    "name": "ipython",
    "version": 3
   },
   "file_extension": ".py",
   "mimetype": "text/x-python",
   "name": "python",
   "nbconvert_exporter": "python",
   "pygments_lexer": "ipython3",
   "version": "3.6.2"
  }
 },
 "nbformat": 4,
 "nbformat_minor": 2
}
